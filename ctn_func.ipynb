{
 "cells": [
  {
   "cell_type": "markdown",
   "id": "59808a5c",
   "metadata": {},
   "source": [
    "Categorical values are required to be numerified (denoted with numerical values), and this piece of code will help out to perform the task, in Python."
   ]
  },
  {
   "cell_type": "code",
   "execution_count": 1,
   "id": "96240865",
   "metadata": {
    "ExecuteTime": {
     "end_time": "2022-06-11T20:22:39.328163Z",
     "start_time": "2022-06-11T20:22:39.300149Z"
    }
   },
   "outputs": [],
   "source": [
    "# ctn(\"0 or 1\", \"dataframe's column reference\")\n",
    "def ctn(n, x):\n",
    "    if n == 0:\n",
    "        unq = x.unique()\n",
    "        num = list(range(0, len(x.unique())))\n",
    "        s = {}\n",
    "        for i in range(0, len(x.unique())):\n",
    "            s.update({unq[i]:num[i]})\n",
    "        return x.map(s)\n",
    "    else:\n",
    "        unq = x.unique()\n",
    "        num = list(range(1, len(x.unique())+1))\n",
    "        s = {}\n",
    "        for i in range(0, len(x.unique())):\n",
    "            s.update({unq[i]:num[i]})\n",
    "        return x.map(s)"
   ]
  },
  {
   "cell_type": "markdown",
   "id": "20758c05",
   "metadata": {},
   "source": [
    "Here, n is either 0 or 1.<br>\n",
    "For 0, the categorical value numerification will start from 0.<br>\n",
    "For 1, the categorical value numerification will start from 1.<br><br>\n",
    "And, x is the column reference. <br>\n",
    "Both **dataframe.column** and **dataframe[“column”]** are operational."
   ]
  },
  {
   "cell_type": "code",
   "execution_count": 2,
   "id": "36258cb7",
   "metadata": {
    "ExecuteTime": {
     "end_time": "2022-06-11T20:39:55.252430Z",
     "start_time": "2022-06-11T20:39:54.338520Z"
    }
   },
   "outputs": [],
   "source": [
    "# let's create a dataframe\n",
    "import pandas as pd\n",
    "\n",
    "df = pd.DataFrame({\n",
    "    \"item_no\":[1,2,3,4,5,6,7,8,9],\n",
    "    \"item\":[\"banana\", \"mango\", \"grape\", \"mango\", \"grape\", \"banana\", \"mango\", \"grape\", \"kiwi\"]\n",
    "})"
   ]
  },
  {
   "cell_type": "code",
   "execution_count": 3,
   "id": "adb96e72",
   "metadata": {
    "ExecuteTime": {
     "end_time": "2022-06-11T20:40:05.450284Z",
     "start_time": "2022-06-11T20:40:05.424271Z"
    }
   },
   "outputs": [
    {
     "data": {
      "text/html": [
       "<div>\n",
       "<style scoped>\n",
       "    .dataframe tbody tr th:only-of-type {\n",
       "        vertical-align: middle;\n",
       "    }\n",
       "\n",
       "    .dataframe tbody tr th {\n",
       "        vertical-align: top;\n",
       "    }\n",
       "\n",
       "    .dataframe thead th {\n",
       "        text-align: right;\n",
       "    }\n",
       "</style>\n",
       "<table border=\"1\" class=\"dataframe\">\n",
       "  <thead>\n",
       "    <tr style=\"text-align: right;\">\n",
       "      <th></th>\n",
       "      <th>item_no</th>\n",
       "      <th>item</th>\n",
       "    </tr>\n",
       "  </thead>\n",
       "  <tbody>\n",
       "    <tr>\n",
       "      <th>0</th>\n",
       "      <td>1</td>\n",
       "      <td>banana</td>\n",
       "    </tr>\n",
       "    <tr>\n",
       "      <th>1</th>\n",
       "      <td>2</td>\n",
       "      <td>mango</td>\n",
       "    </tr>\n",
       "    <tr>\n",
       "      <th>2</th>\n",
       "      <td>3</td>\n",
       "      <td>grape</td>\n",
       "    </tr>\n",
       "    <tr>\n",
       "      <th>3</th>\n",
       "      <td>4</td>\n",
       "      <td>mango</td>\n",
       "    </tr>\n",
       "    <tr>\n",
       "      <th>4</th>\n",
       "      <td>5</td>\n",
       "      <td>grape</td>\n",
       "    </tr>\n",
       "    <tr>\n",
       "      <th>5</th>\n",
       "      <td>6</td>\n",
       "      <td>banana</td>\n",
       "    </tr>\n",
       "    <tr>\n",
       "      <th>6</th>\n",
       "      <td>7</td>\n",
       "      <td>mango</td>\n",
       "    </tr>\n",
       "    <tr>\n",
       "      <th>7</th>\n",
       "      <td>8</td>\n",
       "      <td>grape</td>\n",
       "    </tr>\n",
       "    <tr>\n",
       "      <th>8</th>\n",
       "      <td>9</td>\n",
       "      <td>kiwi</td>\n",
       "    </tr>\n",
       "  </tbody>\n",
       "</table>\n",
       "</div>"
      ],
      "text/plain": [
       "   item_no    item\n",
       "0        1  banana\n",
       "1        2   mango\n",
       "2        3   grape\n",
       "3        4   mango\n",
       "4        5   grape\n",
       "5        6  banana\n",
       "6        7   mango\n",
       "7        8   grape\n",
       "8        9    kiwi"
      ]
     },
     "execution_count": 3,
     "metadata": {},
     "output_type": "execute_result"
    }
   ],
   "source": [
    "# let's check the dataframe\n",
    "df"
   ]
  },
  {
   "cell_type": "code",
   "execution_count": 4,
   "id": "ddeb6c53",
   "metadata": {
    "ExecuteTime": {
     "end_time": "2022-06-11T20:42:12.005219Z",
     "start_time": "2022-06-11T20:42:11.996217Z"
    }
   },
   "outputs": [
    {
     "data": {
      "text/plain": [
       "0    0\n",
       "1    1\n",
       "2    2\n",
       "3    1\n",
       "4    2\n",
       "5    0\n",
       "6    1\n",
       "7    2\n",
       "8    3\n",
       "Name: item, dtype: int64"
      ]
     },
     "execution_count": 4,
     "metadata": {},
     "output_type": "execute_result"
    }
   ],
   "source": [
    "# now let's numerify the categorical values, item column, into numeric by using ctn() function\n",
    "# at first, let's use 0 as n\n",
    "ctn(0, df.item)"
   ]
  },
  {
   "cell_type": "code",
   "execution_count": 5,
   "id": "07330f85",
   "metadata": {
    "ExecuteTime": {
     "end_time": "2022-06-11T20:42:57.888038Z",
     "start_time": "2022-06-11T20:42:57.879037Z"
    }
   },
   "outputs": [
    {
     "data": {
      "text/plain": [
       "0    1\n",
       "1    2\n",
       "2    3\n",
       "3    2\n",
       "4    3\n",
       "5    1\n",
       "6    2\n",
       "7    3\n",
       "8    4\n",
       "Name: item, dtype: int64"
      ]
     },
     "execution_count": 5,
     "metadata": {},
     "output_type": "execute_result"
    }
   ],
   "source": [
    "# now, let's use 1 as n\n",
    "ctn(1, df.item)"
   ]
  },
  {
   "cell_type": "code",
   "execution_count": 6,
   "id": "d786fede",
   "metadata": {
    "ExecuteTime": {
     "end_time": "2022-06-11T20:45:09.760308Z",
     "start_time": "2022-06-11T20:45:09.750308Z"
    }
   },
   "outputs": [],
   "source": [
    "# to mutate the values (changes to take place), refer the colum\n",
    "# in this instence, it is numerified from 0\n",
    "df.item = ctn(0, df.item)"
   ]
  },
  {
   "cell_type": "code",
   "execution_count": 7,
   "id": "1e92ec2c",
   "metadata": {
    "ExecuteTime": {
     "end_time": "2022-06-11T20:45:28.863993Z",
     "start_time": "2022-06-11T20:45:28.852991Z"
    }
   },
   "outputs": [
    {
     "data": {
      "text/html": [
       "<div>\n",
       "<style scoped>\n",
       "    .dataframe tbody tr th:only-of-type {\n",
       "        vertical-align: middle;\n",
       "    }\n",
       "\n",
       "    .dataframe tbody tr th {\n",
       "        vertical-align: top;\n",
       "    }\n",
       "\n",
       "    .dataframe thead th {\n",
       "        text-align: right;\n",
       "    }\n",
       "</style>\n",
       "<table border=\"1\" class=\"dataframe\">\n",
       "  <thead>\n",
       "    <tr style=\"text-align: right;\">\n",
       "      <th></th>\n",
       "      <th>item_no</th>\n",
       "      <th>item</th>\n",
       "    </tr>\n",
       "  </thead>\n",
       "  <tbody>\n",
       "    <tr>\n",
       "      <th>0</th>\n",
       "      <td>1</td>\n",
       "      <td>0</td>\n",
       "    </tr>\n",
       "    <tr>\n",
       "      <th>1</th>\n",
       "      <td>2</td>\n",
       "      <td>1</td>\n",
       "    </tr>\n",
       "    <tr>\n",
       "      <th>2</th>\n",
       "      <td>3</td>\n",
       "      <td>2</td>\n",
       "    </tr>\n",
       "    <tr>\n",
       "      <th>3</th>\n",
       "      <td>4</td>\n",
       "      <td>1</td>\n",
       "    </tr>\n",
       "    <tr>\n",
       "      <th>4</th>\n",
       "      <td>5</td>\n",
       "      <td>2</td>\n",
       "    </tr>\n",
       "    <tr>\n",
       "      <th>5</th>\n",
       "      <td>6</td>\n",
       "      <td>0</td>\n",
       "    </tr>\n",
       "    <tr>\n",
       "      <th>6</th>\n",
       "      <td>7</td>\n",
       "      <td>1</td>\n",
       "    </tr>\n",
       "    <tr>\n",
       "      <th>7</th>\n",
       "      <td>8</td>\n",
       "      <td>2</td>\n",
       "    </tr>\n",
       "    <tr>\n",
       "      <th>8</th>\n",
       "      <td>9</td>\n",
       "      <td>3</td>\n",
       "    </tr>\n",
       "  </tbody>\n",
       "</table>\n",
       "</div>"
      ],
      "text/plain": [
       "   item_no  item\n",
       "0        1     0\n",
       "1        2     1\n",
       "2        3     2\n",
       "3        4     1\n",
       "4        5     2\n",
       "5        6     0\n",
       "6        7     1\n",
       "7        8     2\n",
       "8        9     3"
      ]
     },
     "execution_count": 7,
     "metadata": {},
     "output_type": "execute_result"
    }
   ],
   "source": [
    "# now, let's check the dataframe\n",
    "df"
   ]
  },
  {
   "cell_type": "markdown",
   "id": "8962412a",
   "metadata": {},
   "source": [
    "I hope, it helps you out, cheers! "
   ]
  }
 ],
 "metadata": {
  "kernelspec": {
   "display_name": "Python 3 (ipykernel)",
   "language": "python",
   "name": "python3"
  },
  "language_info": {
   "codemirror_mode": {
    "name": "ipython",
    "version": 3
   },
   "file_extension": ".py",
   "mimetype": "text/x-python",
   "name": "python",
   "nbconvert_exporter": "python",
   "pygments_lexer": "ipython3",
   "version": "3.9.7"
  },
  "toc": {
   "base_numbering": 1,
   "nav_menu": {},
   "number_sections": true,
   "sideBar": true,
   "skip_h1_title": false,
   "title_cell": "Table of Contents",
   "title_sidebar": "Contents",
   "toc_cell": false,
   "toc_position": {},
   "toc_section_display": true,
   "toc_window_display": false
  }
 },
 "nbformat": 4,
 "nbformat_minor": 5
}
